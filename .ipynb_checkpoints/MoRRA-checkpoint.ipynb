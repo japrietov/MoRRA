{
 "cells": [
  {
   "cell_type": "markdown",
   "metadata": {},
   "source": [
    "# Multi-objective Risk-based Resource Allocation"
   ]
  },
  {
   "cell_type": "code",
   "execution_count": 1,
   "metadata": {},
   "outputs": [],
   "source": [
    "import geopandas as gp\n",
    "import networkx as nx\n",
    "import pandas as pd\n",
    "import numpy as np\n",
    "import unidecode\n",
    "import string\n",
    "import datetime\n",
    "import seaborn as sn\n",
    "import matplotlib.pyplot as plt\n",
    "import seaborn as sns\n",
    "import scipy\n",
    "import scipy.stats\n",
    "import warnings\n",
    "from scipy.stats import gaussian_kde\n",
    "from matplotlib.patches import Patch\n",
    "warnings.filterwarnings('ignore')\n",
    "from sklearn import preprocessing\n",
    "from matplotlib.patches import Patch\n",
    "import matplotlib.colors \n",
    "\n",
    "from scipy.stats import chisquare, anderson, kstest\n",
    "\n",
    "import matplotlib.pylab as plt\n",
    "from matplotlib.lines import Line2D\n",
    "import matplotlib.colors as colors\n",
    "from matplotlib.cm import ScalarMappable\n",
    "import matplotlib.colors as mcolors\n",
    "from scipy.spatial import distance\n",
    "\n",
    "def truncate_colormap(cmap, minval=0.0, maxval=1.0, n=100):\n",
    "    new_cmap = colors.LinearSegmentedColormap.from_list(\n",
    "        'trunc({n},{a:.2f},{b:.2f})'.format(n=cmap.name, a=minval, b=maxval),\n",
    "        cmap(np.linspace(minval, maxval, n)))\n",
    "    return new_cmap"
   ]
  },
  {
   "cell_type": "markdown",
   "metadata": {},
   "source": [
    "# Load the Urban Sector Shapes"
   ]
  },
  {
   "cell_type": "code",
   "execution_count": null,
   "metadata": {},
   "outputs": [],
   "source": [
    "sectorUrbano = gp.read_file('MGN2018_URB_SECTOR')\n",
    "sectorUrbano = sectorUrbano[(sectorUrbano['DPTO_CCDGO'] == '11') & (sectorUrbano['SETU_CCDGO'] != '0001')]\n",
    "tost = sectorUrbano.copy()\n",
    "tost = tost.to_crs({'init': 'epsg:3857'})\n",
    "tost['area'] = tost['geometry'].area/ 10**6\n",
    "dictAreas = tost.set_index('SETU_CCDGO')['area'].to_dict()\n",
    "sectorUrbano['area'] = sectorUrbano['SETU_CCDGO'].apply(lambda x: dictAreas[x])\n",
    "sectorUrbano['centroid'] = sectorUrbano.centroid\n",
    "\n",
    "sectorUrbano"
   ]
  }
 ],
 "metadata": {
  "kernelspec": {
   "display_name": "Python 3",
   "language": "python",
   "name": "python3"
  },
  "language_info": {
   "codemirror_mode": {
    "name": "ipython",
    "version": 3
   },
   "file_extension": ".py",
   "mimetype": "text/x-python",
   "name": "python",
   "nbconvert_exporter": "python",
   "pygments_lexer": "ipython3",
   "version": "3.7.9"
  }
 },
 "nbformat": 4,
 "nbformat_minor": 4
}
